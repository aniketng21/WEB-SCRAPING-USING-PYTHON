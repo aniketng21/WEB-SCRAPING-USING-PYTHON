{
 "cells": [
  {
   "cell_type": "code",
   "execution_count": 1,
   "metadata": {},
   "outputs": [],
   "source": [
    "from bs4 import BeautifulSoup as soup\n",
    "import re"
   ]
  },
  {
   "cell_type": "code",
   "execution_count": 2,
   "metadata": {},
   "outputs": [],
   "source": [
    "from urllib.request import urlopen as urlreq"
   ]
  },
  {
   "cell_type": "code",
   "execution_count": 3,
   "metadata": {
    "scrolled": false
   },
   "outputs": [
    {
     "name": "stdout",
     "output_type": "stream",
     "text": [
      "19\n",
      "Successful Execution, Interviewdata.csv file created. Use it for further processing.\n"
     ]
    }
   ],
   "source": [
    "urllist =['https://www.geeksforgeeks.org/amazon-interview-experience-set-355-1-year-experienced/',\n",
    "          'https://www.geeksforgeeks.org/adobe-interview-experience-set-23-1-year-experienced/',\n",
    "          'https://www.geeksforgeeks.org/adobe-interview-experience-set-45-2-5years-experienced/',\n",
    "          'https://www.geeksforgeeks.org/adobe-interview-experience-set-53-mts-2/',\n",
    "          'https://www.geeksforgeeks.org/amazon-interview-experience-set-245-for-2-5-years/',\n",
    "          'https://www.geeksforgeeks.org/amazon-interview-experience-set-271-off-campus-sde-1/',\n",
    "          'https://www.geeksforgeeks.org/amazon-interview-experience-set-339-sde-2/',\n",
    "          'https://www.geeksforgeeks.org/amazon-interview-experience-set-431-sde2/',\n",
    "          'https://www.geeksforgeeks.org/cisco-interview-experience-set-21-off-campus/',\n",
    "          'https://www.geeksforgeeks.org/d-e-shaw-interview-experience-set-17-1-yr-8-months-experienced/',\n",
    "          'https://www.geeksforgeeks.org/eze-software-interview-experience-set-1-2/',\n",
    "          'https://www.geeksforgeeks.org/goldman-sachs-interview-experience-set-14-1-years-experienced/',\n",
    "          'https://www.geeksforgeeks.org/paytm-interview-experience-set-12-1-5-years-experienced/',\n",
    "          'https://www.geeksforgeeks.org/paytm-interview-experience-set-23-2-years-experienced/',\n",
    "          'https://www.geeksforgeeks.org/jabong-interview-experience-set-2-sde-ii/',\n",
    "          'https://www.geeksforgeeks.org/microsoft-interview-experience-set-137-software-engineer-ii/',\n",
    "          'https://www.geeksforgeeks.org/oyorooms-interview-experience-set-12-4-experience-backend-developer/',\n",
    "          'https://www.geeksforgeeks.org/qualcomm-interview-experience-set-8-experienced/',\n",
    "          'https://www.geeksforgeeks.org/zoho-interview-experience-set-22-experienced/']\n",
    "len1 = len(urllist)\n",
    "print(len1)\n",
    "\n",
    "filename= \"Interviewdata.csv\"\n",
    "f=open(filename,'w',encoding='utf-8')\n",
    "headers=\"COMPANY NAME,URL,UPVOTES,VOTES(FOR RATING),RATING,EXP ID \\n\"\n",
    "f.write(headers)\n",
    "f.close()\n",
    "\n",
    "for i in range(len1):\n",
    "    url = urllist[i]\n",
    "    uclient = urlreq(url)\n",
    "    pagehtml = uclient.read()\n",
    "    uclient.close()\n",
    "    \n",
    "    pagesoup=soup(pagehtml,'html.parser')\n",
    "    container=pagesoup.findAll(\"div\",{\"class\":\"site-content\"})\n",
    "    contain = container[0]\n",
    "    container1=pagesoup.findAll(\"div\",{\"class\":\"plugins upvoteArticle\"})\n",
    "    contain1 = container1[0]\n",
    "    #print(len(container))\n",
    "    #print(soup.prettify(container1[0]))\n",
    "\n",
    "    def votetrim(fvotes):\n",
    "        a=fvotes.replace('\\n','')\n",
    "        b = a.replace(' ','')\n",
    "        c = b.split('n')\n",
    "        d = c[1].split('v')\n",
    "   \n",
    "        return(d[0])\n",
    "\n",
    "    def expid(fcom):\n",
    "        a=fcom.replace(' ','')\n",
    "        b = a.split('|')\n",
    "        c = b[1]\n",
    "        d = c.split('t')\n",
    "        e = d[1]\n",
    "        f = e.split('(')\n",
    "        g = f[0]\n",
    "        \n",
    "        return(g)\n",
    "\n",
    "    def compname(fcom):\n",
    "        b=fcom.replace('\\n','')\n",
    "        return(b)\n",
    "\n",
    "    def rate(frating):\n",
    "        b=frating.replace('\\n','')\n",
    "        a=b.split('B')\n",
    "        return(a[0])\n",
    "    \n",
    "\n",
    "    company = contain.findAll(\"header\",{\"class\": \"entry-header\"})\n",
    "    urlcon = url\n",
    "    rating = contain1.findAll(\"div\",{\"class\":\"techno dropdown\"})\n",
    "    upvotes= contain1.findAll(\"span\",{\"class\":\"upvoteText\"})\n",
    "    votes = contain1.findAll(\"div\",{\"class\":\"techno dropdown\"})\n",
    "    fcom = company[0].text\n",
    "    furlcon = urlcon\n",
    "    fupvotes = upvotes[0].text\n",
    "    frating = rating[0].text\n",
    "    fvotes = votes[0].text\n",
    "    frate = rate(frating)\n",
    "    fexp = expid(fcom)\n",
    "    ffvote = votetrim(fvotes)\n",
    "    copnam = compname(fcom)\n",
    "    if bool(re.match('^[0-9]+$',fupvotes))==True:\n",
    "        fupvotes=fupvotes\n",
    "    else:\n",
    "        fupvotes='0'\n",
    "    \n",
    "    filename= \"Interviewdata.csv\"\n",
    "    with open(filename, 'a') as f:\n",
    "        f.write(copnam +',' + furlcon +',' + fupvotes +','+ ffvote + ',' + frate+','+ fexp+'\\n')\n",
    "        f.close()\n",
    "print(\"Successful Execution, Interviewdata.csv file created. Use it for further processing.\")"
   ]
  },
  {
   "cell_type": "code",
   "execution_count": null,
   "metadata": {},
   "outputs": [],
   "source": []
  },
  {
   "cell_type": "code",
   "execution_count": null,
   "metadata": {},
   "outputs": [],
   "source": []
  },
  {
   "cell_type": "code",
   "execution_count": null,
   "metadata": {},
   "outputs": [],
   "source": []
  }
 ],
 "metadata": {
  "kernelspec": {
   "display_name": "Python 3",
   "language": "python",
   "name": "python3"
  },
  "language_info": {
   "codemirror_mode": {
    "name": "ipython",
    "version": 3
   },
   "file_extension": ".py",
   "mimetype": "text/x-python",
   "name": "python",
   "nbconvert_exporter": "python",
   "pygments_lexer": "ipython3",
   "version": "3.7.3"
  }
 },
 "nbformat": 4,
 "nbformat_minor": 2
}
